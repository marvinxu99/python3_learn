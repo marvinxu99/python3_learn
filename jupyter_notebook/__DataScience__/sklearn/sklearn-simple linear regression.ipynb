{
 "cells": [
  {
   "cell_type": "markdown",
   "metadata": {},
   "source": [
    "Scikit-learn(sklearn) is based on NumPy, SciPy and matplotlib. it is a machine learning package.\n",
    "\n",
    "(1) pandas use DataFrame for SM (statismodels) <br />\n",
    "(2) NumPy uses ndarray for sklearn"
   ]
  },
  {
   "cell_type": "markdown",
   "metadata": {},
   "source": [
    "<b>Advantages of Scikit-learn</b>:<br/>\n",
    "(1) Incredible documentation <br/>\n",
    "(2) Variety: regression, classification, clustering, support vector machines, dimensionality reduction <br />\n",
    "(3) Numerical stability <br />"
   ]
  },
  {
   "cell_type": "code",
   "execution_count": null,
   "metadata": {},
   "outputs": [],
   "source": []
  }
 ],
 "metadata": {
  "kernelspec": {
   "display_name": "Python 3",
   "language": "python",
   "name": "python3"
  },
  "language_info": {
   "codemirror_mode": {
    "name": "ipython",
    "version": 3
   },
   "file_extension": ".py",
   "mimetype": "text/x-python",
   "name": "python",
   "nbconvert_exporter": "python",
   "pygments_lexer": "ipython3",
   "version": "3.7.4"
  }
 },
 "nbformat": 4,
 "nbformat_minor": 2
}
